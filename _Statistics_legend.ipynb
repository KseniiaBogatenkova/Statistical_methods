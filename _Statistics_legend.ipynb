{
 "cells": [
  {
   "cell_type": "markdown",
   "id": "0a19f1c2-72d7-4269-8459-924d61af4a54",
   "metadata": {},
   "source": [
    "# ДЗ3 Статистические методы \n"
   ]
  },
  {
   "cell_type": "markdown",
   "id": "a517e156-c7bd-4df7-9049-30db7cf3ff46",
   "metadata": {},
   "source": [
    "## Содержание\n",
    "\n",
    "- [Исследование](#Исследование)\n",
    "\n",
    "- [Выводы](#Выводы)\n"
   ]
  },
  {
   "cell_type": "markdown",
   "id": "112cab88-88a3-427e-95f0-6f4ef2b65e28",
   "metadata": {},
   "source": [
    "\n",
    "### Легенда  🍕\n",
    "Представьте, что вы работаете аналитиком в очень крупной компании по доставке пиццы над приложением для курьеров (да, обычно в таких компаниях есть приложение для курьеров и отдельно приложение для потребителей).\n",
    "\n",
    "У вас есть несколько ресторанов в разных частях города и целый штат курьеров. Но есть одна проблема — к вечеру скорость доставки падает из-за того, что курьеры уходят домой после рабочего дня, а количество заказов лишь растет. Это приводит к тому, что в момент пересмены наша доставка очень сильно проседает в эффективности.\n",
    "\n",
    "Наши data scientist-ы придумали новый алгоритм, который позволяет курьерам запланировать свои последние заказы перед окончанием рабочего дня так, чтобы их маршрут доставки совпадал с маршрутом до дома. То есть, чтобы курьеры доставляли последние свои заказы за день как бы \"по пути\" домой.\n",
    "\n",
    "Вы вместе с командой решили раскатить A/B тест на две равные группы курьеров. Часть курьеров использует старый алгоритм без опции \"по пути\", другие видят в своем приложении эту опцию и могут ее выбрать. Ваша задача – проанализировать данные эксперимента и помочь бизнесу принять решение о раскатке новой фичи на всех курьеров.\n",
    "\n",
    "Данные: https://disk.yandex.ru/d/JDk-cktITJVyFQ\n",
    "\n",
    "### Описание данных \n",
    "\n",
    "- order_id - id заказа\n",
    "\n",
    "- delivery_time - время доставки в минутах\n",
    "\n",
    "- district - район доставки\n",
    "\n",
    "- experiment_group - экспериментальная группа\n",
    "\n",
    "### Задание\n",
    "\n",
    "На основе данных ответить на вопросы теста.\n",
    "\n",
    "Сформулировать выводы в двух форматах:\n",
    "\n",
    "- научном\n",
    "\n",
    "- понятном человеку, который не является специалистом в статистике"
   ]
  },
  {
   "cell_type": "markdown",
   "id": "9e7ab6ff-7c8a-4320-b088-9b157fdbc1a4",
   "metadata": {},
   "source": [
    "<a id=\"Исследование\"></a>\n",
    "## Исследование"
   ]
  },
  {
   "cell_type": "code",
   "execution_count": 1,
   "id": "ef3db601-b212-4f7a-a568-d21b3dc83ea5",
   "metadata": {},
   "outputs": [],
   "source": [
    "# Загружаем необходимые библиотеки\n",
    "import pandas as pd \n",
    "from scipy.stats import normaltest\n",
    "import matplotlib.pyplot as plt\n",
    "from scipy.stats import ttest_ind\n"
   ]
  },
  {
   "cell_type": "code",
   "execution_count": 2,
   "id": "347f3880-51a9-4bab-8142-8ba7dd2dc43b",
   "metadata": {},
   "outputs": [],
   "source": [
    "# Пути к файлу\n",
    "experiment_lesson = \"experiment_lesson.csv\"\n",
    "# Загрузка данных в DataFrame\n",
    "experiment_lesson = pd.read_csv(experiment_lesson)\n"
   ]
  },
  {
   "cell_type": "code",
   "execution_count": 3,
   "id": "7003d78e-1592-4fb3-9d49-f01ba0b3afd3",
   "metadata": {},
   "outputs": [
    {
     "name": "stdout",
     "output_type": "stream",
     "text": [
      "<class 'pandas.core.frame.DataFrame'>\n",
      "RangeIndex: 20196 entries, 0 to 20195\n",
      "Data columns (total 4 columns):\n",
      " #   Column            Non-Null Count  Dtype  \n",
      "---  ------            --------------  -----  \n",
      " 0   order_id          20196 non-null  int64  \n",
      " 1   delivery_time     20196 non-null  float64\n",
      " 2   district          20196 non-null  object \n",
      " 3   experiment_group  20196 non-null  object \n",
      "dtypes: float64(1), int64(1), object(2)\n",
      "memory usage: 631.2+ KB\n"
     ]
    }
   ],
   "source": [
    "experiment_lesson.info()"
   ]
  },
  {
   "cell_type": "code",
   "execution_count": 4,
   "id": "05a7a6b3-3840-42cb-a338-493062e61f5d",
   "metadata": {},
   "outputs": [
    {
     "data": {
      "text/html": [
       "<div>\n",
       "<style scoped>\n",
       "    .dataframe tbody tr th:only-of-type {\n",
       "        vertical-align: middle;\n",
       "    }\n",
       "\n",
       "    .dataframe tbody tr th {\n",
       "        vertical-align: top;\n",
       "    }\n",
       "\n",
       "    .dataframe thead th {\n",
       "        text-align: right;\n",
       "    }\n",
       "</style>\n",
       "<table border=\"1\" class=\"dataframe\">\n",
       "  <thead>\n",
       "    <tr style=\"text-align: right;\">\n",
       "      <th></th>\n",
       "      <th>order_id</th>\n",
       "      <th>delivery_time</th>\n",
       "      <th>district</th>\n",
       "      <th>experiment_group</th>\n",
       "    </tr>\n",
       "  </thead>\n",
       "  <tbody>\n",
       "    <tr>\n",
       "      <th>0</th>\n",
       "      <td>3159</td>\n",
       "      <td>44.0</td>\n",
       "      <td>Purlieus</td>\n",
       "      <td>control</td>\n",
       "    </tr>\n",
       "    <tr>\n",
       "      <th>1</th>\n",
       "      <td>10426</td>\n",
       "      <td>51.0</td>\n",
       "      <td>Purlieus</td>\n",
       "      <td>control</td>\n",
       "    </tr>\n",
       "    <tr>\n",
       "      <th>2</th>\n",
       "      <td>9155</td>\n",
       "      <td>46.0</td>\n",
       "      <td>Purlieus</td>\n",
       "      <td>control</td>\n",
       "    </tr>\n",
       "    <tr>\n",
       "      <th>3</th>\n",
       "      <td>10699</td>\n",
       "      <td>34.0</td>\n",
       "      <td>Purlieus</td>\n",
       "      <td>control</td>\n",
       "    </tr>\n",
       "    <tr>\n",
       "      <th>4</th>\n",
       "      <td>10061</td>\n",
       "      <td>43.0</td>\n",
       "      <td>Purlieus</td>\n",
       "      <td>control</td>\n",
       "    </tr>\n",
       "  </tbody>\n",
       "</table>\n",
       "</div>"
      ],
      "text/plain": [
       "   order_id  delivery_time  district experiment_group\n",
       "0      3159           44.0  Purlieus          control\n",
       "1     10426           51.0  Purlieus          control\n",
       "2      9155           46.0  Purlieus          control\n",
       "3     10699           34.0  Purlieus          control\n",
       "4     10061           43.0  Purlieus          control"
      ]
     },
     "execution_count": 4,
     "metadata": {},
     "output_type": "execute_result"
    }
   ],
   "source": [
    "experiment_lesson.head()"
   ]
  },
  {
   "cell_type": "code",
   "execution_count": 5,
   "id": "5e078517-b6db-40f0-a7a0-aba92448d702",
   "metadata": {},
   "outputs": [
    {
     "name": "stdout",
     "output_type": "stream",
     "text": [
      "Уникальные значения в столбце 'order_id': [ 3159 10426  9155 ... 20077 14861 13501]\n",
      "Уникальные значения в столбце 'delivery_time': [44. 51. 46. 34. 43. 38. 36. 57. 48. 50. 41. 55. 28. 53. 33. 37. 61. 54.\n",
      " 58. 39. 56. 30. 52. 47. 40. 49. 67. 42. 45. 35. 27. 31. 32. 25. 26. 76.\n",
      " 23. 64. 29. 59. 60. 21. 65. 66. 24. 62. 22. 74. 73. 70. 63. 68. 20. 69.\n",
      " 77. 71. 18. 19. 15. 72. 17. 16. 80. 75. 78. 83. 81. 12. 14. 13. 11. 10.]\n",
      "Уникальные значения в столбце 'district': ['Purlieus' 'Central' 'Suburb']\n",
      "Уникальные значения в столбце 'experiment_group': ['control' 'test']\n"
     ]
    }
   ],
   "source": [
    "# Глянем уникальные значения в каждом столбце\n",
    "for column in experiment_lesson.columns:\n",
    "    unique_values = experiment_lesson[column].unique()\n",
    "    print(f\"Уникальные значения в столбце '{column}': {unique_values}\")\n"
   ]
  },
  {
   "cell_type": "markdown",
   "id": "82c83ceb-7c81-477e-8dbd-b7e0e60b30ac",
   "metadata": {},
   "source": [
    "Для анализа A/B теста нам бы понять, как новая фича влияет на ключевые метрики.\n",
    "\n",
    "В этом случае можем сосредоточиться на следующем:\n",
    "\n",
    "Определим метрики:\n",
    "\n",
    "- Среднее время доставки (delivery_time) для групп control и test.\n",
    "- Распределение заказов по районам (district) в каждой группе.\n",
    "- Анализ количества заказов (покрытие order_id) в контрольной и тестовой группах.\n",
    "\n",
    "Проверим гипотезы:  \n",
    "\n",
    "- Есть ли статистически значимые изменения в среднем времени доставки между группами?\n",
    "- Помогает ли новая функция улучшить доставку в вечернее время?\n",
    "\n",
    "Анализ распределения данных:  \n",
    "\n",
    "- Плотность и распределение delivery_time по группам.\n",
    "- Выбросы и их влияние на результат.\n"
   ]
  },
  {
   "cell_type": "code",
   "execution_count": 6,
   "id": "7bc8ffa8-6496-4dac-a6f8-20405b33d172",
   "metadata": {},
   "outputs": [
    {
     "name": "stdout",
     "output_type": "stream",
     "text": [
      "Описание времени доставки по группам:\n",
      "                    count       mean       std   min   25%   50%   75%   max\n",
      "experiment_group                                                            \n",
      "control           10092.0  45.065101  9.990017  15.0  38.0  45.0  52.0  83.0\n",
      "test              10104.0  39.046813  9.883308  10.0  32.0  39.0  46.0  75.0\n"
     ]
    }
   ],
   "source": [
    "# Описание данных и групп\n",
    "grouped_data = experiment_lesson.groupby(\"experiment_group\")[\"delivery_time\"].describe()\n",
    "print(\"Описание времени доставки по группам:\")\n",
    "print(grouped_data)"
   ]
  },
  {
   "cell_type": "code",
   "execution_count": 7,
   "id": "58420b81-4fd2-40ae-b6b5-d5f297655dac",
   "metadata": {},
   "outputs": [],
   "source": [
    "# Разделение на контрольную группу\n",
    "control_group = experiment_lesson[experiment_lesson[\"experiment_group\"] == \"control\"][\"delivery_time\"]\n",
    "# Разделение на тестовую группу\n",
    "test_group = experiment_lesson[experiment_lesson[\"experiment_group\"] == \"test\"][\"delivery_time\"]"
   ]
  },
  {
   "cell_type": "code",
   "execution_count": 8,
   "id": "ea91f564-97fe-48c4-9f2f-42db789bdc5b",
   "metadata": {},
   "outputs": [
    {
     "name": "stdout",
     "output_type": "stream",
     "text": [
      "T-статистика, округленная до целого: -43, P-значение: 0.0\n"
     ]
    }
   ],
   "source": [
    "# Расчет t-статистики\n",
    "t_stat, p_value = ttest_ind(test_group, control_group, equal_var=False)  \n",
    "\n",
    "# Округление до целого\n",
    "t_stat_rounded = round(t_stat)\n",
    "print(f\"T-статистика, округленная до целого: {t_stat_rounded}, P-значение: {p_value}\")\n"
   ]
  },
  {
   "cell_type": "code",
   "execution_count": 9,
   "id": "5a4a6d47-eb9d-4078-8dbc-d852e623fc14",
   "metadata": {},
   "outputs": [
    {
     "name": "stdout",
     "output_type": "stream",
     "text": [
      "\n",
      "Распределение заказов по районам:\n",
      "experiment_group  district\n",
      "control           Central      669\n",
      "                  Purlieus    8781\n",
      "                  Suburb       642\n",
      "test              Central     1727\n",
      "                  Purlieus    8179\n",
      "                  Suburb       198\n",
      "Name: order_id, dtype: int64\n"
     ]
    },
    {
     "data": {
      "image/png": "[encoded data removed]",
      "text/plain": [
       "<Figure size 640x480 with 1 Axes>"
      ]
     },
     "metadata": {},
     "output_type": "display_data"
    }
   ],
   "source": [
    "# Анализ распределения заказов по районам\n",
    "district_distribution = experiment_lesson.groupby([\"experiment_group\", \"district\"])[\"order_id\"].count()\n",
    "print(\"\\nРаспределение заказов по районам:\")\n",
    "print(district_distribution)\n",
    "\n",
    "plt.hist(control_group, alpha=0.5, label='Control', bins=20)\n",
    "plt.hist(test_group, alpha=0.5, label='Test', bins=20)\n",
    "plt.legend(loc='upper right')\n",
    "plt.title('Распределение времени доставки')\n",
    "plt.xlabel('Время доставки (мин)')\n",
    "plt.ylabel('Частота')\n",
    "plt.show()"
   ]
  },
  {
   "cell_type": "markdown",
   "id": "eac3ef98-4c57-4b5a-abb4-e6afb21aeb6d",
   "metadata": {},
   "source": [
    "# Промежуточный вывод:\n",
    "\n",
    "Среднее время доставки в контрольной группе— 45 минут, медианное время — 45 минут. Распределение имеет длинный хвост, что говорит о возможных задержках.  \n",
    "\n",
    "\n",
    "Среднее время доставки в тестовой группе — 39 минут, медианное время — 39 минут. Тестовая группа имеет более низкое среднее и медианное время доставки.  \n",
    "\n",
    "\n",
    "T-тест:  \n",
    "Результаты t-теста (T-статистика = -43, P-значение = 0.0) показывают, что различия между средним временем доставки в тестовой и контрольной группе статистически значимы. Отрицательное значение T-статистики указывает, что среднее время доставки в тестовой группе меньше, чем в контрольной.\n",
    "Это подтверждает, что новая фича влияет на скорость доставки.\n",
    "\n",
    "Видно, что тестовая группа имеет сдвиг распределения влево (к более короткому времени доставки), что подтверждает снижение времени доставки благодаря новой фиче."
   ]
  },
  {
   "cell_type": "markdown",
   "id": "b8f3b574-7de5-48f8-b7c8-cf6f8e8ca970",
   "metadata": {},
   "source": [
    "Теперь изучим наши распределения. Проверим выполнение условий на нормальность и посчитаем стандартное отклонение в тесте и в контроле.  \n",
    "\n",
    "Вообще для выборок таких колоссальных размеров мы не обязаны это делать - в отсутствие слишком уж выраженной асимметрии и выбросов в данных t-тест и так работать будет нормально, но посмотреть лишний раз всё равно можно :)  \n",
    "\n",
    "Обычно нормальность тестируют с помощью теста Шапиро-Уилка (scipy.stats.shapiro()), однако на больших выборках этот тест слишком рьяно находит отклонения от нормальности! Поэтому используйте функцию scipy.stats.normaltest() (тест Агостино-Пирсона) - она больше адаптирована к большим выборкам.    \n",
    "\n",
    "Также можете сделать это через пакет pingouin - вот этой функцией. Не забудьте выбрать правильный аргумент!  \n"
   ]
  },
  {
   "cell_type": "code",
   "execution_count": 10,
   "id": "58c60aa6-b245-4edb-bdfa-d05c686bbac6",
   "metadata": {},
   "outputs": [
    {
     "name": "stdout",
     "output_type": "stream",
     "text": [
      "Контрольная группа: статистика=0.25349755437872584, p-value=0.8809549607809654\n",
      "Тестовая группа: статистика=7.024157092641915, p-value=0.02983483685333173\n"
     ]
    }
   ],
   "source": [
    "# Тест Агостино-Пирсона на нормальность для контрольной группы\n",
    "control_normality_stat, control_p_value = normaltest(control_group)\n",
    "\n",
    "# Тест Агостино-Пирсона на нормальность для тестовой группы\n",
    "test_normality_stat, test_p_value = normaltest(test_group)\n",
    "\n",
    "# Вывод результатов\n",
    "print(f\"Контрольная группа: статистика={control_normality_stat}, p-value={control_p_value}\")\n",
    "print(f\"Тестовая группа: статистика={test_normality_stat}, p-value={test_p_value}\")\n"
   ]
  },
  {
   "cell_type": "markdown",
   "id": "446831f9-c83a-4a9a-bdb8-a811f3a547a9",
   "metadata": {},
   "source": [
    "Стандартное отклонение времени доставки в минутах в контрольной группе (округление - до сотых, разделитель - точка):\n"
   ]
  },
  {
   "cell_type": "code",
   "execution_count": 11,
   "id": "6058dad0-512e-48dc-91be-518b5a4fbfec",
   "metadata": {},
   "outputs": [
    {
     "name": "stdout",
     "output_type": "stream",
     "text": [
      "9.99\n"
     ]
    }
   ],
   "source": [
    "# Расчет стандартного отклонения\n",
    "control_std = control_group.std()\n",
    "\n",
    "# Округление до сотых\n",
    "control_std_rounded = round(control_std, 2)\n",
    "print(control_std_rounded)\n"
   ]
  },
  {
   "cell_type": "markdown",
   "id": "2eea20c4-6807-4a4c-9f44-cbb7e3aae742",
   "metadata": {},
   "source": [
    "Стандартное отклонение времени доставки в минутах в тестовой группе (округление - до сотых, разделитель - точка):\n"
   ]
  },
  {
   "cell_type": "code",
   "execution_count": 12,
   "id": "0db87b41-f014-40da-942a-1719cd9c35ef",
   "metadata": {},
   "outputs": [
    {
     "name": "stdout",
     "output_type": "stream",
     "text": [
      "9.88\n"
     ]
    }
   ],
   "source": [
    "# Расчет стандартного отклонения\n",
    "test_std = test_group.std()\n",
    "\n",
    "# Округление до сотых\n",
    "test_std_rounded = round(test_std, 2)\n",
    "print(test_std_rounded)\n"
   ]
  },
  {
   "cell_type": "markdown",
   "id": "e498cc9a-e33f-4519-8854-676c3ab6cf9b",
   "metadata": {},
   "source": [
    "На сколько процентов изменилось среднее время доставки в тестовой группе по сравнению с контрольной (округление - до сотых, разделитель - точка)? \n"
   ]
  },
  {
   "cell_type": "code",
   "execution_count": 13,
   "id": "1325383b-2177-47c4-8b87-5390029fe144",
   "metadata": {},
   "outputs": [
    {
     "name": "stdout",
     "output_type": "stream",
     "text": [
      "-13.35\n"
     ]
    }
   ],
   "source": [
    "# Расчет среднего времени доставки в контрольной и тестовой группах\n",
    "control_mean = control_group.mean()\n",
    "test_mean = test_group.mean()\n",
    "\n",
    "# Расчет процентного изменения\n",
    "percentage_change = ((test_mean - control_mean) / control_mean) * 100\n",
    "\n",
    "# Округление до сотых\n",
    "percentage_change_rounded = round(percentage_change, 2)\n",
    "\n",
    "# Вывод результата\n",
    "print(percentage_change_rounded)\n"
   ]
  },
  {
   "cell_type": "markdown",
   "id": "37cf2101-0e21-4867-b5e7-6d2e476c8d70",
   "metadata": {},
   "source": [
    "<a id=\"Выводы\"></a>\n",
    "## Выводы"
   ]
  },
  {
   "cell_type": "markdown",
   "id": "44d6eb5b-42fc-4f61-b161-9fee3d05098d",
   "metadata": {},
   "source": [
    "# Научный вывод:\n",
    "В результате проведенного A/B теста была выявлена статистически значимая разница между контрольной и тестовой группами. Среднее время доставки в тестовой группе снизилось на 13.35% по сравнению с контрольной группой. Тестовая группа, использующая новый алгоритм, демонстрирует более эффективное время доставки, что подтверждается расчетами статистики t-теста и уровня значимости \n",
    "𝑝\n",
    "<\n",
    "0.05\n",
    "p<0.05. Распределение времени доставки в контрольной группе соответствует нормальному, в то время как в тестовой группе наблюдается небольшое отклонение от нормальности, что не повлияло на надежность теста.\n",
    "\n",
    "# Понятный человеку вывод:\n",
    "Коллеги! Новый алгоритм доставки действительно работает лучше! В тестовой группе, где курьеры могли планировать последние заказы \"по пути\" домой, среднее время доставки снизилось на 13.35%. Это значит, что пицца стала приезжать быстрее. Проверка показала, что разница не случайная — новый подход помогает курьерам работать эффективнее. Мы хорошо поработали! Поздравляю нас всех! 😊"
   ]
  },
  {
   "cell_type": "markdown",
   "id": "a9603b46-9614-4957-bbc2-48cf35df718d",
   "metadata": {},
   "source": [
    "# P.S.\n",
    "Я немного накосячила с тестом, например, там, где нужно было написать \"12\", \n",
    "\"Тестовая группа - 10104, контрольная группа - 10092, разница по модулю - 12 наблюдений\", соответственно ответ не был зачтен, как правильный.   \n",
    "\n",
    "Но это не всё, подобное я проделала с ещё одним заданием, где нужно было отметить правильное значение статистики, округленное до целого, там я отметила 43, вместо - 43! ))) хотя в расчете у меня получилось - 43"
   ]
  },
  {
   "cell_type": "markdown",
   "id": "2d628782-7a30-4f1f-b39f-6dc533a93110",
   "metadata": {},
   "source": [
    "# Спасибо за уделенное время! 😀"
   ]
  },
  {
   "cell_type": "code",
   "execution_count": null,
   "id": "3e4a77eb-e452-404e-8999-da37eb57af40",
   "metadata": {},
   "outputs": [],
   "source": []
  },
  {
   "cell_type": "code",
   "execution_count": null,
   "id": "f3bf08df-e91a-493a-ab1e-76431d0407b8",
   "metadata": {},
   "outputs": [],
   "source": []
  }
 ],
 "metadata": {
  "kernelspec": {
   "display_name": "Python 3 (ipykernel)",
   "language": "python",
   "name": "python3"
  },
  "language_info": {
   "codemirror_mode": {
    "name": "ipython",
    "version": 3
   },
   "file_extension": ".py",
   "mimetype": "text/x-python",
   "name": "python",
   "nbconvert_exporter": "python",
   "pygments_lexer": "ipython3",
   "version": "3.9.5"
  }
 },
 "nbformat": 4,
 "nbformat_minor": 5
}
